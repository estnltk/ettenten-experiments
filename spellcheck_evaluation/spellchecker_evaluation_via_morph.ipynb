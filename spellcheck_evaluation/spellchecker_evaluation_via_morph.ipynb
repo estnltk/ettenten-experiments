{
 "cells": [
  {
   "cell_type": "markdown",
   "metadata": {},
   "source": [
    "# Evaluation of spellchecker via morphological analysis\n",
    "\n",
    "In this experiment, we provide an indirect evaluation of Vabamorf's spellchecker via measuring improvements that it provides to the quality of morphological analysis.\n",
    "We first analyse the EWTB (Estonian Web TreeBank) corpus with the default _VabamorfAnalyser_, and then with _VabamorfAnalyser_ which results have been improved by the suggestions of Vabamorf's speller. \n",
    "We measure how much the quality of analysis (analyses matching to EWTB's manual annotations) improves if new analyses are added according to speller's suggestions."
   ]
  },
  {
   "cell_type": "markdown",
   "metadata": {},
   "source": [
    "## Loading EWTB corpus\n",
    "\n",
    "First, download the UD format EWTB corpus from here: https://github.com/UniversalDependencies/UD_Estonian-EWT/ (exact commit: [6cd4d14](https://github.com/UniversalDependencies/UD_Estonian-EWT/tree/6cd4d1480c1f3dc89bcdddab56f04dc51bfa8b48)). And then set the corpus directory in the variable below:"
   ]
  },
  {
   "cell_type": "code",
   "execution_count": 1,
   "metadata": {},
   "outputs": [],
   "source": [
    "eval_data_dir = 'UD_Estonian-EWT-master'"
   ]
  },
  {
   "cell_type": "markdown",
   "metadata": {},
   "source": [
    "Now, you can use a function from the module `ewtb_ud_utils` which loads EWTB's _conllu_ files as Text objects, and provides annotation post-corrections that make its UD format morphological annotations comparable to Vabamorf's morphological annotations."
   ]
  },
  {
   "cell_type": "code",
   "execution_count": 2,
   "metadata": {},
   "outputs": [],
   "source": [
    "import os, os.path\n",
    "from ewtb_ud_utils import load_EWTB_ud_file_with_corrections\n",
    "\n",
    "ud_layer_name = 'ud_syntax'\n",
    "loaded_texts  = []\n",
    "for fname in os.listdir( eval_data_dir ):\n",
    "    if fname.endswith('.conllu'):\n",
    "        fpath = os.path.join( eval_data_dir, fname )\n",
    "        text = load_EWTB_ud_file_with_corrections( fpath, ud_layer_name )\n",
    "        text.meta['file'] = fname\n",
    "        loaded_texts.append( text )"
   ]
  },
  {
   "cell_type": "markdown",
   "metadata": {},
   "source": [
    "## First evaluation: default morphological annotations"
   ]
  },
  {
   "cell_type": "markdown",
   "metadata": {},
   "source": [
    "In the first part of the evaluation, we'll look into how well the default morphological analyser is doing on the EWTB corpus. \n",
    "We use VabamorfAnalyser to add morphological annotations to the Text objects, and add postcorrections with the help of postanalysis tagger:"
   ]
  },
  {
   "cell_type": "code",
   "execution_count": 3,
   "metadata": {},
   "outputs": [],
   "source": [
    "from estnltk.taggers import VabamorfAnalyzer, PostMorphAnalysisTagger\n",
    "\n",
    "vm_analyser = VabamorfAnalyzer()\n",
    "post_corrector = PostMorphAnalysisTagger()\n",
    "for text in loaded_texts:\n",
    "    vm_analyser.tag( text )\n",
    "    post_corrector.retag( text )"
   ]
  },
  {
   "cell_type": "markdown",
   "metadata": {},
   "source": [
    "### Finding differences between Vabamorf's annotations and UD annotations\n",
    "\n",
    "EWTB corps contains manually corrected syntactic annotations, which also include manual corrections to (UD format) morphological analyses. \n",
    "We can use these manually corrected morphological analyses to evaluate Vabamorf's automatically provided morphological analyses.\n",
    "For this purpose, the module `ewtb_ud_utils` contains a special tagger `VM2EWTBMorphDiffTagger`, which compares Vabamorf's layer against UD format syntax layer, and finds differences in morphological annotations. "
   ]
  },
  {
   "cell_type": "code",
   "execution_count": 4,
   "metadata": {},
   "outputs": [
    {
     "data": {
      "text/html": [
       "<h4>Tagger</h4>\n",
       "Finds differences between Vabamorf's morph analysis layer and EWTB's morph analysis (ud_syntax) layer.\n",
       "<table border=\"1\" class=\"dataframe\">\n",
       "  <thead>\n",
       "    <tr style=\"text-align: right;\">\n",
       "      <th>name</th>\n",
       "      <th>output layer</th>\n",
       "      <th>output attributes</th>\n",
       "      <th>input layers</th>\n",
       "    </tr>\n",
       "  </thead>\n",
       "  <tbody>\n",
       "    <tr>\n",
       "      <td>VM2EWTBMorphDiffTagger</td>\n",
       "      <td>morph_diff_layer</td>\n",
       "      <td>('vm_root', 'ud_lemma', 'vm_pos', 'ud_pos', 'vm_form', 'ud_form', 'root_match', 'pos_match', 'form_match')</td>\n",
       "      <td>('morph_analysis', 'ud_syntax')</td>\n",
       "    </tr>\n",
       "  </tbody>\n",
       "</table>\n",
       "<h4>Configuration</h4>\n",
       "<table border=\"1\" class=\"dataframe\">\n",
       "  <tbody>\n",
       "    <tr>\n",
       "      <th>vm_morph_layer</th>\n",
       "      <td>morph_analysis</td>\n",
       "    </tr>\n",
       "    <tr>\n",
       "      <th>ud_syntax_layer</th>\n",
       "      <td>ud_syntax</td>\n",
       "    </tr>\n",
       "    <tr>\n",
       "      <th>compare_function</th>\n",
       "      <td>&lt;function ewtb_ud_utils.align_records&gt;</td>\n",
       "    </tr>\n",
       "    <tr>\n",
       "      <th>count_mismatch_details</th>\n",
       "      <td>True</td>\n",
       "    </tr>\n",
       "    <tr>\n",
       "      <th>show_lemmas</th>\n",
       "      <td>True</td>\n",
       "    </tr>\n",
       "    <tr>\n",
       "      <th>show_postags</th>\n",
       "      <td>True</td>\n",
       "    </tr>\n",
       "    <tr>\n",
       "      <th>show_forms</th>\n",
       "      <td>True</td>\n",
       "    </tr>\n",
       "  </tbody>\n",
       "</table>"
      ],
      "text/plain": [
       "VM2EWTBMorphDiffTagger(input_layers=('morph_analysis', 'ud_syntax'), output_layer=morph_diff_layer, output_attributes=('vm_root', 'ud_lemma', 'vm_pos', 'ud_pos', 'vm_form', 'ud_form', 'root_match',  ..., type: <class 'tuple'>, length: 9, vm_morph_layer=morph_analysis, ud_syntax_layer=ud_syntax, compare_function=<function ewtb_ud_utils.align_records>, count_mismatch_details=True, show_lemmas=True, show_postags=True, show_forms=True)"
      ]
     },
     "execution_count": 4,
     "metadata": {},
     "output_type": "execute_result"
    }
   ],
   "source": [
    "from ewtb_ud_utils import VM2EWTBMorphDiffTagger\n",
    "vm2ud_diff_tagger = VM2EWTBMorphDiffTagger('morph_analysis', ud_layer_name, 'morph_diff_layer')\n",
    "vm2ud_diff_tagger"
   ]
  },
  {
   "cell_type": "code",
   "execution_count": 5,
   "metadata": {},
   "outputs": [],
   "source": [
    "# Find differences\n",
    "for text in loaded_texts:\n",
    "    vm2ud_diff_tagger.tag(text)"
   ]
  },
  {
   "cell_type": "code",
   "execution_count": 6,
   "metadata": {},
   "outputs": [],
   "source": [
    "# get training part of the corpus\n",
    "training_text = [text for text in loaded_texts if 'train' in text.meta['file']][0]"
   ]
  },
  {
   "cell_type": "markdown",
   "metadata": {},
   "source": [
    "The differences between the two input layers will be output to the `'morph_diff_layer'` layer. \n",
    "By default, the tagger also outputs the values that were compared: 1) lemmas from the both layers (`vm_root` and `ud_lemma`), 2) part-of-speech tags from the layers (`vm_pos` and `ud_pos`), and 3) forms of the both layers (`vm_form` and `ud_form`).\n",
    "And boolean values `root_match`, `pos_match` and `form_match` indicated which parts of the annotations were matching, and which were mismatching:"
   ]
  },
  {
   "cell_type": "code",
   "execution_count": 7,
   "metadata": {},
   "outputs": [
    {
     "data": {
      "text/html": [
       "<h4>Layer</h4>\n",
       "\n",
       "\n",
       "<table border=\"1\" class=\"dataframe\">\n",
       "  <thead>\n",
       "    <tr style=\"text-align: right;\">\n",
       "      <th>layer name</th>\n",
       "      <th>attributes</th>\n",
       "      <th>parent</th>\n",
       "      <th>enveloping</th>\n",
       "      <th>ambiguous</th>\n",
       "      <th>span count</th>\n",
       "    </tr>\n",
       "  </thead>\n",
       "  <tbody>\n",
       "    <tr>\n",
       "      <td>morph_diff_layer</td>\n",
       "      <td>vm_root, ud_lemma, vm_pos, ud_pos, vm_form, ud_form, root_match, pos_match, form_match</td>\n",
       "      <td>morph_analysis</td>\n",
       "      <td>None</td>\n",
       "      <td>True</td>\n",
       "      <td>10</td>\n",
       "    </tr>\n",
       "  </tbody>\n",
       "</table>\n",
       "<table border=\"1\" class=\"dataframe\">\n",
       "  <thead>\n",
       "    <tr style=\"text-align: right;\">\n",
       "      <th>text</th>\n",
       "      <th>vm_root</th>\n",
       "      <th>ud_lemma</th>\n",
       "      <th>vm_pos</th>\n",
       "      <th>ud_pos</th>\n",
       "      <th>vm_form</th>\n",
       "      <th>ud_form</th>\n",
       "      <th>root_match</th>\n",
       "      <th>pos_match</th>\n",
       "      <th>form_match</th>\n",
       "    </tr>\n",
       "  </thead>\n",
       "  <tbody>\n",
       "    <tr>\n",
       "      <td>Körin</td>\n",
       "      <td>Körin</td>\n",
       "      <td>kõrin</td>\n",
       "      <td>H</td>\n",
       "      <td>S_NOUN</td>\n",
       "      <td>sg n</td>\n",
       "      <td>OrderedDict([('Case', 'Nom'), ('Number', 'Sing')])</td>\n",
       "      <td>False</td>\n",
       "      <td>False</td>\n",
       "      <td>True</td>\n",
       "    </tr>\n",
       "    <tr>\n",
       "      <td>vöib</td>\n",
       "      <td>vöib</td>\n",
       "      <td>või</td>\n",
       "      <td>S</td>\n",
       "      <td>V_AUX</td>\n",
       "      <td>sg n</td>\n",
       "      <td>OrderedDict([('Mood', 'Ind'), ('Number', 'Sing'), ('Person', '3'), ('Tense', 'Pr ..., type: &lt;class 'collections.OrderedDict'&gt;, length: 6</td>\n",
       "      <td>False</td>\n",
       "      <td>False</td>\n",
       "      <td>False</td>\n",
       "    </tr>\n",
       "    <tr>\n",
       "      <td>voi</td>\n",
       "      <td>voi</td>\n",
       "      <td>või</td>\n",
       "      <td>S</td>\n",
       "      <td>J_CCONJ</td>\n",
       "      <td>sg g</td>\n",
       "      <td>OrderedDict()</td>\n",
       "      <td>False</td>\n",
       "      <td>False</td>\n",
       "      <td>False</td>\n",
       "    </tr>\n",
       "    <tr>\n",
       "      <td></td>\n",
       "      <td>voi</td>\n",
       "      <td>või</td>\n",
       "      <td>S</td>\n",
       "      <td>J_CCONJ</td>\n",
       "      <td>sg n</td>\n",
       "      <td>OrderedDict()</td>\n",
       "      <td>False</td>\n",
       "      <td>False</td>\n",
       "      <td>False</td>\n",
       "    </tr>\n",
       "    <tr>\n",
       "      <td>imtingimata</td>\n",
       "      <td>imting=im</td>\n",
       "      <td>ilm_tingimata</td>\n",
       "      <td>U</td>\n",
       "      <td>D_ADV</td>\n",
       "      <td>sg ab</td>\n",
       "      <td>OrderedDict()</td>\n",
       "      <td>False</td>\n",
       "      <td>False</td>\n",
       "      <td>False</td>\n",
       "    </tr>\n",
       "    <tr>\n",
       "      <td></td>\n",
       "      <td>imtingi=mata</td>\n",
       "      <td>ilm_tingimata</td>\n",
       "      <td>A</td>\n",
       "      <td>D_ADV</td>\n",
       "      <td></td>\n",
       "      <td>OrderedDict()</td>\n",
       "      <td>False</td>\n",
       "      <td>False</td>\n",
       "      <td>True</td>\n",
       "    </tr>\n",
       "    <tr>\n",
       "      <td>ekraan</td>\n",
       "      <td>ekraan</td>\n",
       "      <td>ekraan</td>\n",
       "      <td>S</td>\n",
       "      <td>S_NOUN</td>\n",
       "      <td>sg n</td>\n",
       "      <td>OrderedDict([('Case', 'Gen'), ('Number', 'Sing')])</td>\n",
       "      <td>True</td>\n",
       "      <td>True</td>\n",
       "      <td>False</td>\n",
       "    </tr>\n",
       "    <tr>\n",
       "      <td>konsentratsiooniks</td>\n",
       "      <td>konsentratsioo_niks</td>\n",
       "      <td>kontsentratsioon</td>\n",
       "      <td>S</td>\n",
       "      <td>S_NOUN</td>\n",
       "      <td>sg n</td>\n",
       "      <td>OrderedDict([('Case', 'Tra'), ('Number', 'Sing')])</td>\n",
       "      <td>False</td>\n",
       "      <td>True</td>\n",
       "      <td>False</td>\n",
       "    </tr>\n",
       "    <tr>\n",
       "      <td>%</td>\n",
       "      <td>%</td>\n",
       "      <td>%</td>\n",
       "      <td>Y</td>\n",
       "      <td>X_SYM</td>\n",
       "      <td>?</td>\n",
       "      <td>OrderedDict()</td>\n",
       "      <td>True</td>\n",
       "      <td>False</td>\n",
       "      <td>False</td>\n",
       "    </tr>\n",
       "    <tr>\n",
       "      <td>kül</td>\n",
       "      <td>kül</td>\n",
       "      <td>küll</td>\n",
       "      <td>S</td>\n",
       "      <td>D_ADV</td>\n",
       "      <td>sg n</td>\n",
       "      <td>OrderedDict()</td>\n",
       "      <td>False</td>\n",
       "      <td>False</td>\n",
       "      <td>False</td>\n",
       "    </tr>\n",
       "    <tr>\n",
       "      <td>%</td>\n",
       "      <td>%</td>\n",
       "      <td>%</td>\n",
       "      <td>Y</td>\n",
       "      <td>X_SYM</td>\n",
       "      <td>?</td>\n",
       "      <td>OrderedDict()</td>\n",
       "      <td>True</td>\n",
       "      <td>False</td>\n",
       "      <td>False</td>\n",
       "    </tr>\n",
       "    <tr>\n",
       "      <td>muideks</td>\n",
       "      <td>mui</td>\n",
       "      <td>muideks</td>\n",
       "      <td>S</td>\n",
       "      <td>D_ADV</td>\n",
       "      <td>pl tr</td>\n",
       "      <td>OrderedDict()</td>\n",
       "      <td>False</td>\n",
       "      <td>False</td>\n",
       "      <td>False</td>\n",
       "    </tr>\n",
       "  </tbody>\n",
       "</table>"
      ],
      "text/plain": [
       "Layer(name='morph_diff_layer', attributes=('vm_root', 'ud_lemma', 'vm_pos', 'ud_pos', 'vm_form', 'ud_form', 'root_match', 'pos_match', 'form_match'), spans=SL[Span('Körin', [{'vm_root': 'Körin', 'ud_lemma': 'kõrin', 'vm_pos': 'H', 'ud_pos': 'S_NOUN', 'vm_form': 'sg n', 'ud_form': OrderedDict([('Case', 'Nom'), ('Number', 'Sing')]), 'root_match': False, 'pos_match': False, 'form_match': True}]),\n",
       "Span('vöib', [{'vm_root': 'vöib', 'ud_lemma': 'või', 'vm_pos': 'S', 'ud_pos': 'V_AUX', 'vm_form': 'sg n', 'ud_form': OrderedDict([('Mood', 'Ind'), ('Number', 'Sing'), ('Person', '3'), ('Tense', 'Pres'), ('VerbForm', 'Fin'), ('Voice', 'Act')]), 'root_match': False, 'pos_match': False, 'form_match': False}]),\n",
       "Span('voi', [{'vm_root': 'voi', 'ud_lemma': 'või', 'vm_pos': 'S', 'ud_pos': 'J_CCONJ', 'vm_form': 'sg g', 'ud_form': OrderedDict(), 'root_match': False, 'pos_match': False, 'form_match': False}, {'vm_root': 'voi', 'ud_lemma': 'või', 'vm_pos': 'S', 'ud_pos': 'J_CCONJ', 'vm_form': 'sg n', 'ud_form': OrderedDict(), 'root_match': False, 'pos_match': False, 'form_match': False}]),\n",
       "Span('imtingimata', [{'vm_root': 'imting=im', 'ud_lemma': 'ilm_tingimata', 'vm_pos': 'U', 'ud_pos': 'D_ADV', 'vm_form': 'sg ab', 'ud_form': OrderedDict(), 'root_match': False, 'pos_match': False, 'form_match': False}, {'vm_root': 'imtingi=mata', 'ud_lemma': 'ilm_tingimata', 'vm_pos': 'A', 'ud_pos': 'D_ADV', 'vm_form': '', 'ud_form': OrderedDict(), 'root_match': False, 'pos_match': False, 'form_match': True}]),\n",
       "Span('ekraan', [{'vm_root': 'ekraan', 'ud_lemma': 'ekraan', 'vm_pos': 'S', 'ud_pos': 'S_NOUN', 'vm_form': 'sg n', 'ud_form': OrderedDict([('Case', 'Gen'), ('Number', 'Sing')]), 'root_match': True, 'pos_match': True, 'form_match': False}]),\n",
       "Span('konsentratsiooniks', [{'vm_root': 'konsentratsioo_niks', 'ud_lemma': 'kontsentratsioon', 'vm_pos': 'S', 'ud_pos': 'S_NOUN', 'vm_form': 'sg n', 'ud_form': OrderedDict([('Case', 'Tra'), ('Number', 'Sing')]), 'root_match': False, 'pos_match': True, 'form_match': False}]),\n",
       "Span('%', [{'vm_root': '%', 'ud_lemma': '%', 'vm_pos': 'Y', 'ud_pos': 'X_SYM', 'vm_form': '?', 'ud_form': OrderedDict(), 'root_match': True, 'pos_match': False, 'form_match': False}]),\n",
       "Span('kül', [{'vm_root': 'kül', 'ud_lemma': 'küll', 'vm_pos': 'S', 'ud_pos': 'D_ADV', 'vm_form': 'sg n', 'ud_form': OrderedDict(), 'root_match': False, 'pos_match': False, 'form_match': False}]),\n",
       "Span('%', [{'vm_root': '%', 'ud_lemma': '%', 'vm_pos': 'Y', 'ud_pos': 'X_SYM', 'vm_form': '?', 'ud_form': OrderedDict(), 'root_match': True, 'pos_match': False, 'form_match': False}]),\n",
       "Span('muideks', [{'vm_root': 'mui', 'ud_lemma': 'muideks', 'vm_pos': 'S', 'ud_pos': 'D_ADV', 'vm_form': 'pl tr', 'ud_form': OrderedDict(), 'root_match': False, 'pos_match': False, 'form_match': False}])])"
      ]
     },
     "execution_count": 7,
     "metadata": {},
     "output_type": "execute_result"
    }
   ],
   "source": [
    "# Let's examine the last 10 mismatches\n",
    "training_text['morph_diff_layer'][-10:]"
   ]
  },
  {
   "cell_type": "markdown",
   "metadata": {},
   "source": [
    "And, finally, the `meta` part of the layer contains some over-all statistics:"
   ]
  },
  {
   "cell_type": "code",
   "execution_count": 8,
   "metadata": {},
   "outputs": [
    {
     "data": {
      "text/plain": [
       "{'ambiguous_words': 6454,\n",
       " 'avg_variants_per_word': 1.6990279960421395,\n",
       " 'matching_words': 16664,\n",
       " 'mismatching_propn_words': 44,\n",
       " 'mismatching_punct_words': 8,\n",
       " 'mismatching_symb_words': 11,\n",
       " 'mismatching_words': 517,\n",
       " 'words_total': 17181}"
      ]
     },
     "execution_count": 8,
     "metadata": {},
     "output_type": "execute_result"
    }
   ],
   "source": [
    "training_text['morph_diff_layer'].meta"
   ]
  },
  {
   "cell_type": "markdown",
   "metadata": {},
   "source": [
    "Note: *mismatching_words* are such words that do not have any Vabamorf's morphological analyses that could be matched to UD's morphological analysis. \n",
    "If Vabamorf's annotations for a word contain multiple analyses, and at least one of them can be matched to corresponding UD's morphological analysis, the word is considered a _matching word_."
   ]
  },
  {
   "cell_type": "markdown",
   "metadata": {},
   "source": [
    "### Summarizing differences\n",
    "\n",
    "The module `ewtb_ud_utils` also contains a method, which aggregates and summarizes statistics from differences layers of all input Text-s:"
   ]
  },
  {
   "cell_type": "code",
   "execution_count": 9,
   "metadata": {},
   "outputs": [
    {
     "data": {
      "text/html": [
       "<h4>Summary of morphological analyses matching</h4>\n",
       "<table border=\"1\" class=\"dataframe\">\n",
       "  <thead>\n",
       "    <tr style=\"text-align: right;\">\n",
       "      <th>texts</th>\n",
       "      <th>total_words</th>\n",
       "      <th>mismatching_words</th>\n",
       "      <th>mismatching_%</th>\n",
       "      <th>filters</th>\n",
       "    </tr>\n",
       "  </thead>\n",
       "  <tbody>\n",
       "    <tr>\n",
       "      <td>2</td>\n",
       "      <td>27286</td>\n",
       "      <td>828</td>\n",
       "      <td>(3.03%)</td>\n",
       "      <td>[]</td>\n",
       "    </tr>\n",
       "  </tbody>\n",
       "</table>\n",
       "<h4>Details on mismatches</h4>\n",
       "<table border=\"1\" class=\"dataframe\">\n",
       "  <tbody>\n",
       "    <tr>\n",
       "      <th>+ ROOT | – POSTAG | – FORM</th>\n",
       "      <td>219</td>\n",
       "      <td>(26.45%)</td>\n",
       "    </tr>\n",
       "    <tr>\n",
       "      <th>– ROOT | – POSTAG | – FORM</th>\n",
       "      <td>193</td>\n",
       "      <td>(23.31%)</td>\n",
       "    </tr>\n",
       "    <tr>\n",
       "      <th>– ROOT | + POSTAG | + FORM</th>\n",
       "      <td>169</td>\n",
       "      <td>(20.41%)</td>\n",
       "    </tr>\n",
       "    <tr>\n",
       "      <th>+ ROOT | + POSTAG | – FORM</th>\n",
       "      <td>95</td>\n",
       "      <td>(11.47%)</td>\n",
       "    </tr>\n",
       "    <tr>\n",
       "      <th>+ ROOT | – POSTAG | + FORM</th>\n",
       "      <td>62</td>\n",
       "      <td>(7.49%)</td>\n",
       "    </tr>\n",
       "    <tr>\n",
       "      <th>– ROOT | + POSTAG | – FORM</th>\n",
       "      <td>51</td>\n",
       "      <td>(6.16%)</td>\n",
       "    </tr>\n",
       "    <tr>\n",
       "      <th>– ROOT | – POSTAG | + FORM</th>\n",
       "      <td>39</td>\n",
       "      <td>(4.71%)</td>\n",
       "    </tr>\n",
       "  </tbody>\n",
       "</table>"
      ],
      "text/plain": [
       "<IPython.core.display.HTML object>"
      ]
     },
     "metadata": {},
     "output_type": "display_data"
    }
   ],
   "source": [
    "from ewtb_ud_utils import diff_statistics_html_table\n",
    "diff_statistics_html_table( loaded_texts, 'morph_diff_layer')"
   ]
  },
  {
   "cell_type": "markdown",
   "metadata": {},
   "source": [
    "You can also exclude mismatches by UD part-of-speech. The parameter `leave_out_udpos` takes a list of strings, which are substrings of the UD part-of-speech tags, and excludes words with these tags from the list of mismatching pairs. \n",
    "For instance, we can exclude proper names 'PROPN', punctuation 'PUNCT' and symbols 'SYM' from mismatches:"
   ]
  },
  {
   "cell_type": "code",
   "execution_count": 10,
   "metadata": {},
   "outputs": [
    {
     "data": {
      "text/html": [
       "<h4>Summary of morphological analyses matching</h4>\n",
       "<table border=\"1\" class=\"dataframe\">\n",
       "  <thead>\n",
       "    <tr style=\"text-align: right;\">\n",
       "      <th>texts</th>\n",
       "      <th>total_words</th>\n",
       "      <th>mismatching_words</th>\n",
       "      <th>mismatching_%</th>\n",
       "      <th>filters</th>\n",
       "    </tr>\n",
       "  </thead>\n",
       "  <tbody>\n",
       "    <tr>\n",
       "      <td>2</td>\n",
       "      <td>27286</td>\n",
       "      <td>665</td>\n",
       "      <td>(2.44%)</td>\n",
       "      <td>leave_out_udpos: ['PROPN', 'PUNCT', 'SYM']</td>\n",
       "    </tr>\n",
       "  </tbody>\n",
       "</table>\n",
       "<h4>Details on mismatches</h4>\n",
       "<table border=\"1\" class=\"dataframe\">\n",
       "  <tbody>\n",
       "    <tr>\n",
       "      <th>– ROOT | – POSTAG | – FORM</th>\n",
       "      <td>186</td>\n",
       "      <td>(27.97%)</td>\n",
       "    </tr>\n",
       "    <tr>\n",
       "      <th>+ ROOT | – POSTAG | – FORM</th>\n",
       "      <td>138</td>\n",
       "      <td>(20.75%)</td>\n",
       "    </tr>\n",
       "    <tr>\n",
       "      <th>– ROOT | + POSTAG | + FORM</th>\n",
       "      <td>114</td>\n",
       "      <td>(17.14%)</td>\n",
       "    </tr>\n",
       "    <tr>\n",
       "      <th>+ ROOT | + POSTAG | – FORM</th>\n",
       "      <td>90</td>\n",
       "      <td>(13.53%)</td>\n",
       "    </tr>\n",
       "    <tr>\n",
       "      <th>+ ROOT | – POSTAG | + FORM</th>\n",
       "      <td>61</td>\n",
       "      <td>(9.17%)</td>\n",
       "    </tr>\n",
       "    <tr>\n",
       "      <th>– ROOT | – POSTAG | + FORM</th>\n",
       "      <td>39</td>\n",
       "      <td>(5.86%)</td>\n",
       "    </tr>\n",
       "    <tr>\n",
       "      <th>– ROOT | + POSTAG | – FORM</th>\n",
       "      <td>37</td>\n",
       "      <td>(5.56%)</td>\n",
       "    </tr>\n",
       "  </tbody>\n",
       "</table>"
      ],
      "text/plain": [
       "<IPython.core.display.HTML object>"
      ]
     },
     "metadata": {},
     "output_type": "display_data"
    }
   ],
   "source": [
    "diff_statistics_html_table( loaded_texts, 'morph_diff_layer', leave_out_udpos=['PROPN', 'PUNCT', 'SYM'] )"
   ]
  },
  {
   "cell_type": "markdown",
   "metadata": {},
   "source": [
    "## Second evaluation: morphological annotations with spelling corrections\n",
    "\n",
    "Now, we'll run Vabamorf's spellchecker on EWTB's words, collect spelling suggestions for misspelled words, analyse suggested words with Vabamorf's analyser and add corresponding new analyses.\n",
    "\n",
    "For that, we first create a rewriter that adds spelling suggestions (and corresponding analyses) to misspelled words:"
   ]
  },
  {
   "cell_type": "code",
   "execution_count": 11,
   "metadata": {},
   "outputs": [],
   "source": [
    "from estnltk.text import Text, Layer\n",
    "from estnltk.vabamorf import morf as vm\n",
    "from estnltk.layer.annotation import Annotation\n",
    "\n",
    "from estnltk.taggers import VabamorfAnalyzer, PostMorphAnalysisTagger, Tagger\n",
    "\n",
    "class SpellingCorrectionsMorphAnalysisRewriter:\n",
    "    '''Rewrites morph_analysis layer with added spelling corrections.'''\n",
    "    \n",
    "    def __init__(self):\n",
    "        self.vm_analyser = VabamorfAnalyzer()\n",
    "        self.post_corrector = PostMorphAnalysisTagger()\n",
    "\n",
    "    def rewrite(self, records):\n",
    "        suggestions = set()\n",
    "        added_records = []\n",
    "        for rec in records:\n",
    "            assert 'text' in rec\n",
    "            # Perform spellchecking\n",
    "            spell_check_result = vm.spellcheck([rec['text']], suggestions=True)\n",
    "            for item in spell_check_result:\n",
    "                # Check if we have a misspelled word with suggestions\n",
    "                if not item[\"spelling\"] and len(item[\"suggestions\"]) > 0:\n",
    "                    for new_suggestion in item[\"suggestions\"]:\n",
    "                        if new_suggestion not in suggestions:\n",
    "                            suggestions.add( new_suggestion )\n",
    "        if suggestions:\n",
    "            # Perform new morph analysis on suggested variants\n",
    "            temp_text = Text(' '.join(list(suggestions)))\n",
    "            temp_text.tag_layer(['words', 'sentences'])\n",
    "            self.vm_analyser.tag( temp_text )\n",
    "            self.post_corrector.retag( temp_text )\n",
    "            # Fetch the new morph annotations\n",
    "            for morph_span in temp_text['morph_analysis']:\n",
    "                morph_records = morph_span.to_records()\n",
    "                # Rewrite coordinates\n",
    "                for new_morph_rec in morph_records:\n",
    "                    new_morph_rec['start'] = records[0]['start']\n",
    "                    new_morph_rec['end']   = records[0]['end']\n",
    "                added_records.extend( morph_records )\n",
    "            #print('Suggestions: {!r} -> {!r}'.format(records[0]['text'], suggestions) )\n",
    "        records.extend( added_records )\n",
    "        return records\n",
    "\n",
    "class MorphSpellingCorrectionsTagger(Tagger):\n",
    "    '''Creates a copy of morph layer with added spelling corrections. Uses SpellingCorrectionsMorphAnalysisRewriter.\n",
    "       TODO: there should be a more straightforward way for doing this\n",
    "    '''\n",
    "    conf_param = ['rewriter']\n",
    "\n",
    "    def __init__(self, input_layer, output_layer, attributes):\n",
    "        self.input_layers = [input_layer]\n",
    "        self.output_layer = output_layer\n",
    "        self.output_attributes = attributes\n",
    "        self.rewriter = SpellingCorrectionsMorphAnalysisRewriter()\n",
    "    \n",
    "    def _make_layer(self, text, layers, status):\n",
    "        layer = layers[self.input_layers[0]]\n",
    "        new_layer = layer.copy() # make a copy of old morph layer\n",
    "        new_layer.name = self.output_layer\n",
    "        for span in new_layer:\n",
    "            records = span.to_records(with_text=True)\n",
    "            span.clear_annotations()\n",
    "            records = self.rewriter.rewrite( records )\n",
    "            for record in records:\n",
    "                record = { k: record[k] for k in record.keys() if k in new_layer.attributes }\n",
    "                span.add_annotation(Annotation(span, **record))\n",
    "        return new_layer"
   ]
  },
  {
   "cell_type": "markdown",
   "metadata": {},
   "source": [
    "Next, we'll apply the rewriter on our Text objects:"
   ]
  },
  {
   "cell_type": "code",
   "execution_count": 12,
   "metadata": {},
   "outputs": [],
   "source": [
    "# Rewrite morph analysis layer with spelling corrections\n",
    "spelling_corrections_layer = 'morph_analysis_with_spelling_suggestions'\n",
    "morph_attributes = loaded_texts[0]['morph_analysis'].attributes\n",
    "spelling_correction_retagger = MorphSpellingCorrectionsTagger('morph_analysis', spelling_corrections_layer, morph_attributes)\n",
    "for text in loaded_texts:\n",
    "    spelling_correction_retagger.tag( text )"
   ]
  },
  {
   "cell_type": "markdown",
   "metadata": {},
   "source": [
    "Find differences between the morph analysis with spelling corrections, and EWTB manual annotations:"
   ]
  },
  {
   "cell_type": "code",
   "execution_count": 13,
   "metadata": {},
   "outputs": [],
   "source": [
    "# Find differences once again\n",
    "from ewtb_ud_utils import VM2EWTBMorphDiffTagger\n",
    "vm2ud_diff_tagger_2 = VM2EWTBMorphDiffTagger( spelling_corrections_layer, ud_layer_name, 'morph_spelling_diff_layer' )\n",
    "for text in loaded_texts:\n",
    "    vm2ud_diff_tagger_2.tag(text)"
   ]
  },
  {
   "cell_type": "code",
   "execution_count": 14,
   "metadata": {},
   "outputs": [
    {
     "data": {
      "text/html": [
       "<h4>Summary of morphological analyses matching</h4>\n",
       "<table border=\"1\" class=\"dataframe\">\n",
       "  <thead>\n",
       "    <tr style=\"text-align: right;\">\n",
       "      <th>texts</th>\n",
       "      <th>total_words</th>\n",
       "      <th>mismatching_words</th>\n",
       "      <th>mismatching_%</th>\n",
       "      <th>filters</th>\n",
       "    </tr>\n",
       "  </thead>\n",
       "  <tbody>\n",
       "    <tr>\n",
       "      <td>2</td>\n",
       "      <td>27286</td>\n",
       "      <td>649</td>\n",
       "      <td>(2.38%)</td>\n",
       "      <td>[]</td>\n",
       "    </tr>\n",
       "  </tbody>\n",
       "</table>\n",
       "<h4>Details on mismatches</h4>\n",
       "<table border=\"1\" class=\"dataframe\">\n",
       "  <tbody>\n",
       "    <tr>\n",
       "      <th>+ ROOT | – POSTAG | – FORM</th>\n",
       "      <td>200</td>\n",
       "      <td>(30.82%)</td>\n",
       "    </tr>\n",
       "    <tr>\n",
       "      <th>– ROOT | + POSTAG | + FORM</th>\n",
       "      <td>121</td>\n",
       "      <td>(18.64%)</td>\n",
       "    </tr>\n",
       "    <tr>\n",
       "      <th>– ROOT | – POSTAG | – FORM</th>\n",
       "      <td>108</td>\n",
       "      <td>(16.64%)</td>\n",
       "    </tr>\n",
       "    <tr>\n",
       "      <th>+ ROOT | + POSTAG | – FORM</th>\n",
       "      <td>97</td>\n",
       "      <td>(14.95%)</td>\n",
       "    </tr>\n",
       "    <tr>\n",
       "      <th>+ ROOT | – POSTAG | + FORM</th>\n",
       "      <td>63</td>\n",
       "      <td>(9.71%)</td>\n",
       "    </tr>\n",
       "    <tr>\n",
       "      <th>– ROOT | + POSTAG | – FORM</th>\n",
       "      <td>35</td>\n",
       "      <td>(5.39%)</td>\n",
       "    </tr>\n",
       "    <tr>\n",
       "      <th>– ROOT | – POSTAG | + FORM</th>\n",
       "      <td>25</td>\n",
       "      <td>(3.85%)</td>\n",
       "    </tr>\n",
       "  </tbody>\n",
       "</table>"
      ],
      "text/plain": [
       "<IPython.core.display.HTML object>"
      ]
     },
     "metadata": {},
     "output_type": "display_data"
    }
   ],
   "source": [
    "# Summarize results\n",
    "from ewtb_ud_utils import diff_statistics_html_table\n",
    "diff_statistics_html_table( loaded_texts, 'morph_spelling_diff_layer')"
   ]
  },
  {
   "cell_type": "code",
   "execution_count": 15,
   "metadata": {},
   "outputs": [
    {
     "data": {
      "text/html": [
       "<h4>Summary of morphological analyses matching</h4>\n",
       "<table border=\"1\" class=\"dataframe\">\n",
       "  <thead>\n",
       "    <tr style=\"text-align: right;\">\n",
       "      <th>texts</th>\n",
       "      <th>total_words</th>\n",
       "      <th>mismatching_words</th>\n",
       "      <th>mismatching_%</th>\n",
       "      <th>filters</th>\n",
       "    </tr>\n",
       "  </thead>\n",
       "  <tbody>\n",
       "    <tr>\n",
       "      <td>2</td>\n",
       "      <td>27286</td>\n",
       "      <td>492</td>\n",
       "      <td>(1.80%)</td>\n",
       "      <td>leave_out_udpos: ['PROPN', 'PUNCT', 'SYM']</td>\n",
       "    </tr>\n",
       "  </tbody>\n",
       "</table>\n",
       "<h4>Details on mismatches</h4>\n",
       "<table border=\"1\" class=\"dataframe\">\n",
       "  <tbody>\n",
       "    <tr>\n",
       "      <th>+ ROOT | – POSTAG | – FORM</th>\n",
       "      <td>122</td>\n",
       "      <td>(24.80%)</td>\n",
       "    </tr>\n",
       "    <tr>\n",
       "      <th>– ROOT | – POSTAG | – FORM</th>\n",
       "      <td>101</td>\n",
       "      <td>(20.53%)</td>\n",
       "    </tr>\n",
       "    <tr>\n",
       "      <th>+ ROOT | + POSTAG | – FORM</th>\n",
       "      <td>92</td>\n",
       "      <td>(18.70%)</td>\n",
       "    </tr>\n",
       "    <tr>\n",
       "      <th>– ROOT | + POSTAG | + FORM</th>\n",
       "      <td>66</td>\n",
       "      <td>(13.41%)</td>\n",
       "    </tr>\n",
       "    <tr>\n",
       "      <th>+ ROOT | – POSTAG | + FORM</th>\n",
       "      <td>62</td>\n",
       "      <td>(12.60%)</td>\n",
       "    </tr>\n",
       "    <tr>\n",
       "      <th>– ROOT | – POSTAG | + FORM</th>\n",
       "      <td>25</td>\n",
       "      <td>(5.08%)</td>\n",
       "    </tr>\n",
       "    <tr>\n",
       "      <th>– ROOT | + POSTAG | – FORM</th>\n",
       "      <td>24</td>\n",
       "      <td>(4.88%)</td>\n",
       "    </tr>\n",
       "  </tbody>\n",
       "</table>"
      ],
      "text/plain": [
       "<IPython.core.display.HTML object>"
      ]
     },
     "metadata": {},
     "output_type": "display_data"
    }
   ],
   "source": [
    "# Summarize results with filters\n",
    "diff_statistics_html_table( loaded_texts, 'morph_spelling_diff_layer', leave_out_udpos=['PROPN', 'PUNCT', 'SYM'] )"
   ]
  },
  {
   "cell_type": "markdown",
   "metadata": {},
   "source": [
    "## Checking ambiguities"
   ]
  },
  {
   "cell_type": "markdown",
   "metadata": {},
   "source": [
    "Finally, we can also examine some statistics about ambiguities in the original Vabamorf's morphological analyses:"
   ]
  },
  {
   "cell_type": "code",
   "execution_count": 16,
   "metadata": {},
   "outputs": [
    {
     "data": {
      "text/html": [
       "<h4>Summary of morphological analyses matching</h4>\n",
       "<table border=\"1\" class=\"dataframe\">\n",
       "  <thead>\n",
       "    <tr style=\"text-align: right;\">\n",
       "      <th>texts</th>\n",
       "      <th>total_words</th>\n",
       "      <th>mismatching_words</th>\n",
       "      <th>mismatching_%</th>\n",
       "      <th>filters</th>\n",
       "    </tr>\n",
       "  </thead>\n",
       "  <tbody>\n",
       "    <tr>\n",
       "      <td>2</td>\n",
       "      <td>27286</td>\n",
       "      <td>828</td>\n",
       "      <td>(3.03%)</td>\n",
       "      <td>[]</td>\n",
       "    </tr>\n",
       "  </tbody>\n",
       "</table>\n",
       "<h4>Details on ambiguity</h4>\n",
       "<table border=\"1\" class=\"dataframe\">\n",
       "  <thead>\n",
       "    <tr style=\"text-align: right;\">\n",
       "      <th>ambiguous_words</th>\n",
       "      <th>ambiguous_%</th>\n",
       "      <th>avg_analyses_per_word</th>\n",
       "    </tr>\n",
       "  </thead>\n",
       "  <tbody>\n",
       "    <tr>\n",
       "      <td>10176</td>\n",
       "      <td>(37.29%)</td>\n",
       "      <td>1.68</td>\n",
       "    </tr>\n",
       "  </tbody>\n",
       "</table>"
      ],
      "text/plain": [
       "<IPython.core.display.HTML object>"
      ]
     },
     "metadata": {},
     "output_type": "display_data"
    }
   ],
   "source": [
    "diff_statistics_html_table( loaded_texts, 'morph_diff_layer', show_ambiguity=True)"
   ]
  },
  {
   "cell_type": "markdown",
   "metadata": {},
   "source": [
    "And same statistics for analyses with spelling suggestions:"
   ]
  },
  {
   "cell_type": "code",
   "execution_count": 17,
   "metadata": {},
   "outputs": [
    {
     "data": {
      "text/html": [
       "<h4>Summary of morphological analyses matching</h4>\n",
       "<table border=\"1\" class=\"dataframe\">\n",
       "  <thead>\n",
       "    <tr style=\"text-align: right;\">\n",
       "      <th>texts</th>\n",
       "      <th>total_words</th>\n",
       "      <th>mismatching_words</th>\n",
       "      <th>mismatching_%</th>\n",
       "      <th>filters</th>\n",
       "    </tr>\n",
       "  </thead>\n",
       "  <tbody>\n",
       "    <tr>\n",
       "      <td>2</td>\n",
       "      <td>27286</td>\n",
       "      <td>649</td>\n",
       "      <td>(2.38%)</td>\n",
       "      <td>[]</td>\n",
       "    </tr>\n",
       "  </tbody>\n",
       "</table>\n",
       "<h4>Details on ambiguity</h4>\n",
       "<table border=\"1\" class=\"dataframe\">\n",
       "  <thead>\n",
       "    <tr style=\"text-align: right;\">\n",
       "      <th>ambiguous_words</th>\n",
       "      <th>ambiguous_%</th>\n",
       "      <th>avg_analyses_per_word</th>\n",
       "    </tr>\n",
       "  </thead>\n",
       "  <tbody>\n",
       "    <tr>\n",
       "      <td>10477</td>\n",
       "      <td>(38.40%)</td>\n",
       "      <td>1.86</td>\n",
       "    </tr>\n",
       "  </tbody>\n",
       "</table>"
      ],
      "text/plain": [
       "<IPython.core.display.HTML object>"
      ]
     },
     "metadata": {},
     "output_type": "display_data"
    }
   ],
   "source": [
    "diff_statistics_html_table( loaded_texts, 'morph_spelling_diff_layer', show_ambiguity=True)"
   ]
  }
 ],
 "metadata": {
  "kernelspec": {
   "display_name": "Python 3",
   "language": "python",
   "name": "python3"
  },
  "language_info": {
   "codemirror_mode": {
    "name": "ipython",
    "version": 3
   },
   "file_extension": ".py",
   "mimetype": "text/x-python",
   "name": "python",
   "nbconvert_exporter": "python",
   "pygments_lexer": "ipython3",
   "version": "3.5.6"
  }
 },
 "nbformat": 4,
 "nbformat_minor": 2
}
