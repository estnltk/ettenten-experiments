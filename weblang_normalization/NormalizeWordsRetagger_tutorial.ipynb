{
 "cells": [
  {
   "cell_type": "markdown",
   "metadata": {},
   "source": [
    "## NormalizeWordsRetagger\n",
    "\n",
    "NormalizeWordsRetagger is a retagger for adding possible normalized forms for words with features that occur mostly in the language of non-standard varieties of Estonian (e.g. the Internet slang, or texts written in a dialect). \n",
    "<br>\n",
    "Retagger detects and deals with such features as **repetitions** (*letter repetitions* (e.g. toreeeeee), *repetitive parts* (e.g. midagigigigi)) and **diacritics** (*missing diacritics* (e.g. oun - õun), *diacritics replaced with other characters* (e.g. l2hme - lähme)). If any of these features is detected in a word, the word will be processed and if possible, one or more normalized forms will be added under an attribute *normalized_form* of the words layer."
   ]
  },
  {
   "cell_type": "code",
   "execution_count": 24,
   "metadata": {},
   "outputs": [],
   "source": [
    "from estnltk import Text\n",
    "from NormalizeWordsRetagger import NormalizeWordsRetagger"
   ]
  },
  {
   "cell_type": "code",
   "execution_count": 25,
   "metadata": {},
   "outputs": [
    {
     "data": {
      "text/html": [
       "<h4>NormalizeWordsRetagger(Retagger)</h4>\n",
       "Retagger for adding normalized forms as attributes of words layer for words of non-standard varieties of Estonian.\n",
       "<table border=\"1\" class=\"dataframe\">\n",
       "  <thead>\n",
       "    <tr style=\"text-align: right;\">\n",
       "      <th>name</th>\n",
       "      <th>output layer</th>\n",
       "      <th>output attributes</th>\n",
       "      <th>input layers</th>\n",
       "    </tr>\n",
       "  </thead>\n",
       "  <tbody>\n",
       "    <tr>\n",
       "      <td>NormalizeWordsRetagger</td>\n",
       "      <td>words</td>\n",
       "      <td>()</td>\n",
       "      <td>('words',)</td>\n",
       "    </tr>\n",
       "  </tbody>\n",
       "</table>\n",
       "<h4>Configuration</h4>\n",
       "<table border=\"1\" class=\"dataframe\">\n",
       "  <tbody>\n",
       "    <tr>\n",
       "      <th>use_letter_reps</th>\n",
       "      <td>True</td>\n",
       "    </tr>\n",
       "    <tr>\n",
       "      <th>use_diacritics_fixes</th>\n",
       "      <td>True</td>\n",
       "    </tr>\n",
       "    <tr>\n",
       "      <th>use_diacritics_fixes_1</th>\n",
       "      <td>True</td>\n",
       "    </tr>\n",
       "    <tr>\n",
       "      <th>use_diacritics_fixes_2</th>\n",
       "      <td>False</td>\n",
       "    </tr>\n",
       "    <tr>\n",
       "      <th>use_diacritics_fixes_3</th>\n",
       "      <td>False</td>\n",
       "    </tr>\n",
       "  </tbody>\n",
       "</table>"
      ],
      "text/plain": [
       "NormalizeWordsRetagger(use_letter_reps=True, use_diacritics_fixes=True, use_diacritics_fixes_1=True, use_diacritics_fixes_2=False, use_diacritics_fixes_3=False)"
      ]
     },
     "execution_count": 25,
     "metadata": {},
     "output_type": "execute_result"
    }
   ],
   "source": [
    "normalize_words_retagger =  NormalizeWordsRetagger()\n",
    "normalize_words_retagger"
   ]
  },
  {
   "cell_type": "markdown",
   "metadata": {},
   "source": [
    "Before applying NormalizeWordsRetagger, the input Text object must have a layer \"words\".\n",
    "\n",
    "As stated before, NormalizeWordsRetagger has 2 groups of features that are observed, **repetitions** and **diacritics**. Both of these features can be turned on/off with corresponding flags: *use_letter_reps* for repetitions and *use_diacritics_fixes* for diacritics. \n",
    "<br>\n",
    "For example, NormalizeWordsRetagger(use_letter_reps=False) deactivates the feature **use_letter_reps** that by default is set to True.\n",
    "<br>\n",
    "Retagger has altogether 5 flags of which 3 of them are set to True by default. \n",
    "<br>\n",
    "\n",
    "\n",
    "#### Description of flags -- what kind of words are detected and normalized:\n",
    "\n",
    "- **use_letter_reps** -- words with repetitive letters (min. three letters in a row; e.g. *jeeeee, lõõõppppukssss*); repetitive parts (e.g. *hahaha blaaaablaaa*).\n",
    "<br>\n",
    "- **use_diacritics_fixes** -- words with missing diacritics (e.g. *mote - mõte*, *vahemalt - vähemalt*); replaced diacritics (e.g. *möödukalt - mõõdukalt*, *ykskoik - ükskõik*).\n",
    "<br>\n",
    "- **use_diacritics_fixes_1** -- following replacements will be tried: {\"y\":\"ü\",\"6\":\"õ\",\"2\":\"ä\",\"å\":\"ä\",\"ô\":\"õ\",\"ó\":\"õ\",\"ō\":\"õ\",\"û\":\"ü\",\"ú\":\"ü\"}, e.g. *tyyp - tüüp*.\n",
    "<br>\n",
    "- **use_diacritics_fixes_2** -- following replacements will be tried: {\"a\":\"ä\",\"o\":[\"õ\",\"ö\"],\"u\":\"ü\"}, e.g. *ragastik - rägastik*.\n",
    "<br>\n",
    "- **use_diacritics_fixes_3** -- following replacements will be tried: {\"ö\":[\"ü\",\"õ\",\"ö\",\"ä\"],\"õ\":[\"ü\",\"õ\",\"ö\",\"ä\"],\"ü\":[\"ü\",\"õ\",\"ö\",\"ä\"], \"ä\":[\"ü\",\"õ\",\"ö\",\"ä\"], \"e\":[\"ä\",\"ö\",\"õ\"],\"?\":[\"ü\",\"õ\",\"ö\",\"ä\"]}, e.g. *tõdruk - tüdruk*.\n",
    "<br>\n",
    "\n",
    "Note that flags **use_diacritics_fixes_1**, **use_diacritics_fixes_2** and **use_diacritics_fixes_3** are subparts of the **use_diacritics_fixes** - **diacritics** part. \n",
    "<br>\n",
    "If **use_diacritics_fixes** is set to False, these will be left unused aswell. \n",
    "<br>\n",
    "In case **use_diacritics_fixes** is set to True, it is possible to choose which of the fixes to use. By default only **use_diacritics_fixes_1** is used as the replacements are less prone to generate false positive new forms compared to the other two."
   ]
  },
  {
   "cell_type": "markdown",
   "metadata": {},
   "source": [
    "### Example #1\n",
    "\n",
    "First example tests NormalizeWordsRetagger on some incorrect words with features that the Retagger should detect and hopefully give normalized forms for.\n",
    "<br>\n",
    "This will give an overview of what NormalizeWordsRetagger does and how are the words normalized."
   ]
  },
  {
   "cell_type": "code",
   "execution_count": 26,
   "metadata": {},
   "outputs": [
    {
     "name": "stdout",
     "output_type": "stream",
     "text": [
      "Text form: lalalala \n",
      "Normalized form(s): ['lala'] \n",
      "\n",
      "Text form: aaahjaaa \n",
      "Normalized form(s): ['ahjaa'] \n",
      "\n",
      "Text form: määä \n",
      "Normalized form(s): ['mää', 'mä'] \n",
      "\n",
      "Text form: eee \n",
      "Normalized form(s): ['ee', 'e'] \n",
      "\n",
      "Text form: oooot \n",
      "Normalized form(s): ['oot', 'ot'] \n",
      "\n",
      "Text form: muhahaaaa \n",
      "Normalized form(s): ['muhaha'] \n",
      "\n",
      "Text form: ahhhaaa \n",
      "Normalized form(s): ['ahhaa', 'aha'] \n",
      "\n",
      "Text form: väää \n",
      "Normalized form(s): ['vä', 'vää', 'vöö'] \n",
      "\n",
      "Text form: prrrr \n",
      "Normalized form(s): ['prr', 'pr'] \n",
      "\n",
      "Text form: blaaaaablaaa \n",
      "Normalized form(s): ['blabla'] \n",
      "\n",
      "Text form: mote \n",
      "Normalized form(s): ['mõte'] \n",
      "\n",
      "Text form: keige \n",
      "Normalized form(s): ['käige', 'kõige'] \n",
      "\n",
      "Text form: mooda \n",
      "Normalized form(s): ['mõõda', 'mööda'] \n",
      "\n",
      "Text form: roomus \n",
      "Normalized form(s): ['rõõmus'] \n",
      "\n",
      "Text form: tõdruk \n",
      "Normalized form(s): ['tüdruk'] \n",
      "\n",
      "Text form: nüiteks \n",
      "Normalized form(s): ['näiteks'] \n",
      "\n",
      "Text form: niioelda \n",
      "Normalized form(s): ['niiöelda'] \n",
      "\n",
      "Text form: körgharidus \n",
      "Normalized form(s): ['kõrgharidus', 'kärgharidus'] \n",
      "\n",
      "Text form: ykskoik \n",
      "Normalized form(s): ['ükskõik'] \n",
      "\n",
      "Text form: komeedia \n",
      "Normalized form(s): ['komöödia'] \n",
      "\n",
      "Text form: peerama \n",
      "Normalized form(s): ['pöörama'] \n",
      "\n",
      "Text form: tõli \n",
      "Normalized form(s): ['tüli'] \n",
      "\n",
      "Text form: vötma \n",
      "Normalized form(s): ['võtma'] \n",
      "\n",
      "Text form: mõõdas \n",
      "Normalized form(s): ['möödas'] \n",
      "\n",
      "Text form: usaldusvaarne \n",
      "Normalized form(s): ['usaldusväärne'] \n",
      "\n",
      "Text form: vahemalt \n",
      "Normalized form(s): ['vähemalt'] \n",
      "\n",
      "Text form: tyyp \n",
      "Normalized form(s): ['tüüp'] \n",
      "\n",
      "Text form: raaagastik \n",
      "Normalized form(s): ['ragastik', 'rägastik'] \n",
      "\n"
     ]
    }
   ],
   "source": [
    "normalize_words_retagger =  NormalizeWordsRetagger(use_diacritics_fixes_2=True, use_diacritics_fixes_3=True)\n",
    "\n",
    "text = Text('lalalala aaahjaaa määä eee oooot muhahaaaa ahhhaaa väää prrrr blaaaaablaaa mote keige mooda roomus tõdruk nüiteks niioelda körgharidus ykskoik komeedia peerama tõli vötma mõõdas usaldusvaarne vahemalt tyyp raaagastik').tag_layer(['words'])\n",
    "\n",
    "normalize_words_retagger.retag(text)\n",
    "\n",
    "for i in text[\"words\"]:\n",
    "    print(\"Text form:\",i.text,\"\\nNormalized form(s):\",i.normalized_form,\"\\n\")"
   ]
  },
  {
   "cell_type": "markdown",
   "metadata": {},
   "source": [
    "In this example all flags were set to True. \n",
    "<br>\n",
    "- With the final example word *raaagastik* it can be seen, that the order in Retagger is defined so, that first are found problems with repetitions (r**aaa**gastik -- ragastik). \n",
    "    If a new form is generated in that part, but it still is not a correct Estonian word, it will be given over to the next part. With replacement rules in the diacritics part it was found, that *ragastik* could be missing a letter ä, and as *rägastik* is a correct Estonian word, it is added as another normalized form.\n",
    "<br>\n",
    "- Here it is also possible to see some false positive normalized forms generated by the use_diacritics_fixes_3 part: e.g. *körgharidus* - ['kõrgharidus', 'kärgharidus']. \n",
    "<br>\n",
    "- Sometimes it is not possible to give only one normalized form without knowing the context, so all possible forms will be added: e.g. *mooda* - ['mõõda', 'mööda']."
   ]
  },
  {
   "cell_type": "markdown",
   "metadata": {},
   "source": [
    "### Example #2\n",
    "\n",
    "In the previous example it was shown how incorrect text forms will get normalized forms. These normalized forms will then, instead of the incorrect forms, be used in morphological analysis.\n",
    "<br>\n",
    "Let's see how NormalizeWordsRetagger works on some real tweets from Twitter."
   ]
  },
  {
   "cell_type": "code",
   "execution_count": 27,
   "metadata": {},
   "outputs": [
    {
     "name": "stdout",
     "output_type": "stream",
     "text": [
      "nagu --- ['nagu', 'nagu'] ['D', 'J']\n",
      "kas --- ['kas'] ['D']\n",
      "sa --- ['sina'] ['P']\n",
      "toesti --- ['tõesti'] ['D']\n",
      "arvad --- ['arvama'] ['V']\n",
      "et --- ['et'] ['J']\n",
      "su --- ['sina'] ['P']\n",
      "kaitumine --- ['käitumine'] ['S']\n",
      "on --- ['olema', 'olema'] ['V', 'V']\n",
      "oige --- ['oie'] ['S']\n",
      "voi --- ['või'] ['J']\n",
      "mis --- ['mis', 'mis'] ['P', 'P']\n",
      "kohaga --- ['koha', 'koht'] ['S', 'S']\n",
      "sa --- ['sina'] ['P']\n",
      "tapselt --- ['täpselt'] ['D']\n",
      "motled --- ['mõtlema'] ['V']\n",
      "-------------------------------\n",
      "okei --- ['okei'] ['I']\n",
      "mul --- ['mina'] ['P']\n",
      "kiiremas --- ['kiirem'] ['C']\n",
      "korras --- ['kord'] ['S']\n",
      "uut --- ['uus'] ['A']\n",
      "tatoveeringut --- ['tätoveering'] ['S']\n",
      "vaja --- ['vaja'] ['D']\n",
      "-------------------------------\n",
      "Ma --- ['mina'] ['P']\n",
      "kogu --- ['kogu'] ['A']\n",
      "aeg --- ['aeg'] ['S']\n",
      "teen --- ['tegema'] ['V']\n",
      "endale --- ['ise'] ['P']\n",
      "peas --- ['pea'] ['S']\n",
      "igasugu --- ['igasugu'] ['D']\n",
      "stsenaariumeid --- ['stsenaarium'] ['S']\n",
      ", --- [','] ['Z']\n",
      "mida --- ['mis', 'mis'] ['P', 'P']\n",
      "neverever --- ['neverever'] ['S']\n",
      "niikuinii --- ['niikuinii'] ['D']\n",
      "ei --- ['ei'] ['V']\n",
      "juhtu --- ['juhtuma'] ['V']\n",
      "mhhhhhhhhh --- ['mh', 'mhh'] ['I', 'I']\n",
      "-------------------------------\n",
      "ma --- ['mina'] ['P']\n",
      "tahan --- ['tahtma'] ['V']\n",
      "et --- ['et'] ['J']\n",
      "niiiii --- ['nii'] ['D']\n",
      "palju --- ['palju'] ['D']\n",
      "asju --- ['asi'] ['S']\n",
      "oleks --- ['olema'] ['V']\n",
      "teisiti --- ['teisiti'] ['D']\n",
      "..... --- ['.....'] ['Z']\n",
      "-------------------------------\n",
      "kuidas --- ['kuidas'] ['D']\n",
      "oelda --- ['ütlema'] ['V']\n",
      "kindel --- ['kindel'] ['A']\n",
      "ei --- ['ei'] ['V']\n",
      "???? --- ['????'] ['Z']\n",
      "mind --- ['mina'] ['P']\n",
      "nii --- ['nii'] ['D']\n",
      "lihtne --- ['lihtne'] ['A']\n",
      "umber --- ['umber'] ['S']\n",
      "veenda --- ['veenma'] ['V']\n",
      "-------------------------------\n"
     ]
    }
   ],
   "source": [
    "normalize_words_retagger =  NormalizeWordsRetagger(use_diacritics_fixes_2=True, use_diacritics_fixes_3=True)\n",
    "\n",
    "tweets = [\"nagu kas sa toesti arvad et su kaitumine on oige voi mis kohaga sa tapselt motled\",\n",
    "          \"okei mul kiiremas korras uut tatoveeringut vaja\",\n",
    "         \"Ma kogu aeg teen endale peas igasugu stsenaariumeid, mida neverever niikuinii ei juhtu mhhhhhhhhh\",\n",
    "         \"ma tahan et niiiii palju asju oleks teisiti.....\",\n",
    "         \"kuidas oelda kindel ei???? mind nii lihtne umber veenda\"]\n",
    "\n",
    "for tweet in tweets:\n",
    "    text_tweet=Text(tweet)\n",
    "    text_tweet.tag_layer(['words'])\n",
    "    normalize_words_retagger.retag(text_tweet)\n",
    "    text_tweet.tag_layer(['morph_analysis'])\n",
    "\n",
    "    for i in text_tweet[\"morph_analysis\"]:\n",
    "        print(i.text, \"---\", i.lemma, i.partofspeech)\n",
    "    print(\"-------------------------------\")"
   ]
  },
  {
   "cell_type": "markdown",
   "metadata": {},
   "source": [
    "If in the previous example values of the normalized form attribute were printed out, then in this one lemmas along with part-of-speech tags. It can be seen, that for some words the lemma is slightly different to the text form (e.g. *toesti - tõesti*), which means that these words got new forms under the normalized form attribute. \n",
    "<br>\n",
    "<br>\n",
    "We can check, how the output differs for word *toesti* if we decide to use or not NormalizeWordsRetagger."
   ]
  },
  {
   "cell_type": "code",
   "execution_count": 28,
   "metadata": {},
   "outputs": [
    {
     "name": "stdout",
     "output_type": "stream",
     "text": [
      "Without NormalizeWordsRetagger: toesti ['toesti'] ['S']\n",
      "With NormalizeWordsRetagger: toesti ['tõesti'] ['D']\n"
     ]
    }
   ],
   "source": [
    "normalize_words_retagger =  NormalizeWordsRetagger(use_diacritics_fixes_2=True, use_diacritics_fixes_3=True)\n",
    "\n",
    "word=Text(\"toesti\")\n",
    "word_original=word.tag_layer(['words'])\n",
    "word_original.tag_layer(['morph_analysis'])\n",
    "\n",
    "for word_orig in word_original[\"morph_analysis\"]:\n",
    "    print(\"Without NormalizeWordsRetagger:\",word_orig.text,word_orig.lemma,word_orig.partofspeech)\n",
    "\n",
    "word=Text(\"toesti\")\n",
    "word_normalized=word2.tag_layer(['words'])\n",
    "normalize_words_retagger.retag(word_normalized)\n",
    "word_normalized.tag_layer(['morph_analysis'])\n",
    "\n",
    "for word_norm in word_normalized[\"morph_analysis\"]:\n",
    "    print(\"With NormalizeWordsRetagger:\",word_norm.text,word_norm.lemma,word_norm.partofspeech)"
   ]
  },
  {
   "cell_type": "markdown",
   "metadata": {},
   "source": [
    "### Example #3\n",
    "\n",
    "Many of the words that NormalizeWordsRetagger detects, are particles. Morphological analysis does not have a certain part-of-speech (POS) tag for just particles, so these are usually analysed into very different and also incorrect categories. To solve the problem and gather all such words together, it is possible to use **UserDictTagger**."
   ]
  },
  {
   "cell_type": "code",
   "execution_count": 29,
   "metadata": {},
   "outputs": [
    {
     "name": "stdout",
     "output_type": "stream",
     "text": [
      "vauuu --- ['vau'] ['S']\n",
      "oehhh --- ['oeh'] ['I']\n",
      ", --- [','] ['Z']\n",
      "ma --- ['mina'] ['P']\n",
      "arvan --- ['arvama'] ['V']\n",
      ", --- [','] ['Z']\n",
      "et --- ['et'] ['J']\n",
      "see --- ['see'] ['P']\n",
      "pole --- ['olema'] ['V']\n",
      "hea --- ['hea'] ['A']\n",
      "mote --- ['mõte'] ['S']\n",
      "... --- ['...'] ['Z']\n",
      "Aga --- ['aga'] ['J']\n",
      "mhhhh --- ['mh', 'mhh'] ['I', 'I']\n",
      ", --- [','] ['Z']\n",
      "ma --- ['mina'] ['P']\n",
      "ei --- ['ei'] ['V']\n",
      "teaaaaa --- ['teadma'] ['V']\n",
      "! --- ['!'] ['Z']\n",
      "lol --- ['lol'] ['S']\n",
      "hihihihi --- ['hihi'] ['I']\n"
     ]
    }
   ],
   "source": [
    "from estnltk.taggers import UserDictTagger\n",
    "\n",
    "normalize_words_retagger =  NormalizeWordsRetagger(use_diacritics_fixes_2=True, use_diacritics_fixes_3=True)\n",
    "\n",
    "text = Text(\"vauuu oehhh, ma arvan, et see pole hea mote... Aga mhhhh, ma ei teaaaaa! lol hihihihi\")\n",
    "\n",
    "text.tag_layer(['words'])\n",
    "normalize_words_retagger.retag(text)\n",
    "text.tag_layer(['morph_analysis'])\n",
    "\n",
    "for i in text[\"morph_analysis\"]:\n",
    "    print(i.text, \"---\", i.lemma, i.partofspeech)"
   ]
  },
  {
   "cell_type": "markdown",
   "metadata": {},
   "source": [
    "Words are normalized and morphologically analysed. As we can see, common Estonian words have all got a correct morphological analysis, but particles have got different POS-tags - either I or S. Next we will try and categorize all such particles under a same POS-tag - B. "
   ]
  },
  {
   "cell_type": "code",
   "execution_count": 30,
   "metadata": {},
   "outputs": [
    {
     "name": "stdout",
     "output_type": "stream",
     "text": [
      "vauuu --- ['vau'] ['B']\n",
      "oehhh --- ['oeh'] ['I']\n",
      ", --- [','] ['Z']\n",
      "ma --- ['mina'] ['P']\n",
      "arvan --- ['arvama'] ['V']\n",
      ", --- [','] ['Z']\n",
      "et --- ['et'] ['J']\n",
      "see --- ['see'] ['P']\n",
      "pole --- ['olema'] ['V']\n",
      "hea --- ['hea'] ['A']\n",
      "mote --- ['mõte'] ['S']\n",
      "... --- ['...'] ['Z']\n",
      "Aga --- ['aga'] ['J']\n",
      "mhhhh --- ['mh'] ['B']\n",
      ", --- [','] ['Z']\n",
      "ma --- ['mina'] ['P']\n",
      "ei --- ['ei'] ['V']\n",
      "teaaaaa --- ['teadma'] ['V']\n",
      "! --- ['!'] ['Z']\n",
      "lol --- ['lol'] ['B']\n",
      "hihihihi --- ['hihi'] ['B']\n"
     ]
    }
   ],
   "source": [
    "userdict = UserDictTagger(validate_vm_categories=False)\n",
    "userdict.add_words_from_csv_file(\"particles_userdict.csv\", encoding='ISO-8859-1', delimiter=',')\n",
    "userdict.retag(text)\n",
    "\n",
    "for i in text[\"morph_analysis\"]:\n",
    "    print(i.text, \"---\", i.lemma, i.partofspeech)"
   ]
  },
  {
   "cell_type": "markdown",
   "metadata": {},
   "source": [
    "Now all the particles have got a new postag B. New postag has been given with a help of UserDictTagger, that needs a userdict in a form of a csv-fail for functioning. Userdict has to contain words and their new correct analyses in a form that is readable for UserDictTagger."
   ]
  }
 ],
 "metadata": {
  "kernelspec": {
   "display_name": "Python 3",
   "language": "python",
   "name": "python3"
  },
  "language_info": {
   "codemirror_mode": {
    "name": "ipython",
    "version": 3
   },
   "file_extension": ".py",
   "mimetype": "text/x-python",
   "name": "python",
   "nbconvert_exporter": "python",
   "pygments_lexer": "ipython3",
   "version": "3.5.4"
  }
 },
 "nbformat": 4,
 "nbformat_minor": 2
}
